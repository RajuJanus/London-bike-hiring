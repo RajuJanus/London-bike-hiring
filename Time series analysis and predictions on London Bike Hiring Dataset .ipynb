{
 "cells": [
  {
   "cell_type": "markdown",
   "id": "0b694c2b",
   "metadata": {
    "tags": []
   },
   "source": [
    "# Time series analysis and predictions on London Bike Hiring Dataset\n",
    "London is a crowdy city. An about bike hiring/ bike traffic on daily basis can benifit many industries.\n",
    "\n",
    "## Aims: \n",
    "   ### Doing an exploratory analyis.\n",
    "   ### Data storytelling: Finding differnt patterns especially seasonality : (https://public.tableau.com/app/profile/raju.roy#!/)\n",
    "   ### Predict the number of bike hire on a particular day/month/year in London. For example predict how the bicycle traffic will look like on a month or a particular location.\n",
    "\n",
    "\n",
    "I have also visualized the data in Tableu (https://public.tableau.com/app/profile/raju.roy#!/). \n",
    "If you want to get an overal idea, such as where most crowdy stations located. At which month or day more people hire bikes, you can interactively select features and the dashboard will show you the trends. \n",
    "\n",
    "# Data\n",
    "The first dataset was downloaded from publicly available dataset 'London Bicycle Hire' in Bigquery.\n",
    "\n",
    "(https://console.cloud.google.com/marketplace/product/greater-london-authority/london-bicycles?project=fit-shift-332509)\n",
    "This data contains the number of hires of London's Santander Cycle Hire Scheme from 01/2015 to 06/2017. Data includes start and stop timestamps, geographical location of the station names and ride duration.\n",
    "This is a big dataset and it was downloaded by chunks and added together. Also the start and end dates are already converted to date-time datatype  and added as new columns before importing here.\n",
    "\n",
    "The second dataset was downloaded from London data store (https://data.london.gov.uk/dataset/number-bicycle-hires) which contains the daily number of bicycle hire from 2010 to present.\n",
    "\n"
   ]
  },
  {
   "cell_type": "markdown",
   "id": "de9d589c-5004-4419-a03d-f2f7160db1fb",
   "metadata": {},
   "source": [
    "# Table of Contents:\n",
    "### Install Libraries\n",
    "### Read Data\n",
    "### Data Cleaning\n",
    "### Data Analysis\n",
    "### Modeling, training and testing with Facebook prophet\n",
    "#### Iteration 1: Prepare the data for facebook prophet, it needs two columns, y and ds. \n",
    "#### Iteration 2: Adding holiday feature to the model:\n",
    "#### Iteration 3: Try the same with a larger dataset Now we look at a dataset that is larger and which contains bike hiring stats from 2010 to present. \n",
    "#### Iteration 4: Tune the model with on and off season\n",
    "#### Iteration 5: Validate the model (Cross validation): Create Train and Test dataset from available data based on years, look at the change points of the trend and then perform cross validation\n",
    "#### Iteration 5(crossvalidation part):Cross validation and check Performance by using Mean Absolute Error\n",
    "#### Iteration 6: Multivariate time series prediction. We import temperature column and also consider it for the modeling and predictions\n",
    "#### Iteration 7: Train the model with only Temperature as regressor without modification  to see if it even performs better. \n",
    "But it seems no improvement. Though the model already performs pretty well with MAPE ranging from 0.2 to 0.4"
   ]
  },
  {
   "cell_type": "markdown",
   "id": "6fa28471",
   "metadata": {},
   "source": [
    "# Install some libraries that probably you might not have \n",
    "(Please don't install if you already have them)"
   ]
  },
  {
   "cell_type": "code",
   "execution_count": null,
   "id": "b7fed5c2",
   "metadata": {},
   "outputs": [],
   "source": [
    "#!pip install pandas-profiling"
   ]
  },
  {
   "cell_type": "code",
   "execution_count": null,
   "id": "1d4730df",
   "metadata": {},
   "outputs": [],
   "source": [
    "# for reading parquet file\n",
    "#!pip install pyarrow "
   ]
  },
  {
   "cell_type": "code",
   "execution_count": null,
   "id": "0e46df2b",
   "metadata": {},
   "outputs": [],
   "source": [
    "#for pandas profiling\n",
    "#!pip install ipywidgets"
   ]
  },
  {
   "cell_type": "code",
   "execution_count": null,
   "id": "19faf821",
   "metadata": {},
   "outputs": [],
   "source": [
    "#!jupyter nbextension enable --py widgetsnbextension\n"
   ]
  },
  {
   "cell_type": "code",
   "execution_count": null,
   "id": "0f9aa60e",
   "metadata": {},
   "outputs": [],
   "source": [
    "#!pip install seaborn"
   ]
  },
  {
   "cell_type": "code",
   "execution_count": null,
   "id": "c37aeb06",
   "metadata": {},
   "outputs": [],
   "source": [
    "#!pip install hvplot"
   ]
  },
  {
   "cell_type": "code",
   "execution_count": null,
   "id": "6aa76cc4",
   "metadata": {},
   "outputs": [],
   "source": [
    "#!pip install channels"
   ]
  },
  {
   "cell_type": "code",
   "execution_count": null,
   "id": "e6fbd4bf-5938-4055-aa4a-852c1a7982c3",
   "metadata": {},
   "outputs": [],
   "source": [
    "#! conda install -c conda-forge mamba -y # for facebook prophet"
   ]
  },
  {
   "cell_type": "code",
   "execution_count": null,
   "id": "89bbcbbf-a98e-4c50-9c6e-19f4b4efc9e7",
   "metadata": {},
   "outputs": [],
   "source": [
    "#!mamba install -c conda-forge prophet -y"
   ]
  },
  {
   "cell_type": "code",
   "execution_count": null,
   "id": "5d72c03b-b0aa-4a4f-b80d-5eb6bb6fb5a3",
   "metadata": {},
   "outputs": [],
   "source": [
    "#! pip install install openpyxl"
   ]
  },
  {
   "cell_type": "code",
   "execution_count": null,
   "id": "360d7b12-2e9b-45b9-afab-da518cf30a90",
   "metadata": {},
   "outputs": [],
   "source": [
    "#! pip install plotly"
   ]
  },
  {
   "cell_type": "code",
   "execution_count": null,
   "id": "170f427e-8b78-4e5c-a458-ca1b9cdeef0b",
   "metadata": {},
   "outputs": [],
   "source": [
    "# To bring holidays in your dataset\n",
    "#!pip install holidays"
   ]
  },
  {
   "cell_type": "markdown",
   "id": "3f1cc703-3754-440c-80d1-7845bf1c0a67",
   "metadata": {},
   "source": [
    "## Import libraries"
   ]
  },
  {
   "cell_type": "code",
   "execution_count": 2,
   "id": "c277ebbf",
   "metadata": {},
   "outputs": [],
   "source": [
    "#import libraries\n",
    "import pandas as pd\n",
    "from datetime import datetime as dt, timedelta\n",
    "#from pandas_profiling import ProfileReport"
   ]
  },
  {
   "cell_type": "code",
   "execution_count": null,
   "id": "9761ed72",
   "metadata": {},
   "outputs": [],
   "source": [
    "# for tracking the time\n",
    "#from tqdm.notebook import trange, tqdm"
   ]
  },
  {
   "cell_type": "code",
   "execution_count": null,
   "id": "5dd57d18",
   "metadata": {},
   "outputs": [],
   "source": [
    "import matplotlib.pyplot as plt"
   ]
  },
  {
   "cell_type": "code",
   "execution_count": null,
   "id": "15268210",
   "metadata": {},
   "outputs": [],
   "source": [
    "import seaborn as sns"
   ]
  },
  {
   "cell_type": "code",
   "execution_count": null,
   "id": "4cdb4a58-0cfd-4d25-9f22-b02867bedc87",
   "metadata": {},
   "outputs": [],
   "source": [
    "import numpy as np\n",
    "import hvplot.pandas"
   ]
  },
  {
   "cell_type": "code",
   "execution_count": null,
   "id": "a44bc483-5bc6-4b71-b7b8-3dd07d231a28",
   "metadata": {},
   "outputs": [],
   "source": [
    "import holidays"
   ]
  },
  {
   "cell_type": "code",
   "execution_count": null,
   "id": "aa9d7326-c072-45b0-9a39-5667e99e5ee9",
   "metadata": {},
   "outputs": [],
   "source": [
    "from datetime import date"
   ]
  },
  {
   "cell_type": "markdown",
   "id": "deddd543-171b-481e-92a3-20d65d5c3f9a",
   "metadata": {},
   "source": [
    "## Read the data"
   ]
  },
  {
   "cell_type": "code",
   "execution_count": 3,
   "id": "272e7079",
   "metadata": {},
   "outputs": [],
   "source": [
    "df = pd.read_parquet('/storage/huge_raw_bikeshare_df.parq').reset_index(drop = True)"
   ]
  },
  {
   "cell_type": "code",
   "execution_count": 4,
   "id": "264ab4a6",
   "metadata": {},
   "outputs": [],
   "source": [
    "stations = pd.read_csv('cycle_stations.csv')"
   ]
  },
  {
   "cell_type": "markdown",
   "id": "840878d5-7737-484b-98e0-1e2bf1020a70",
   "metadata": {},
   "source": [
    "## Data Cleaning"
   ]
  },
  {
   "cell_type": "markdown",
   "id": "bcf2912e",
   "metadata": {},
   "source": [
    "##### Initial exploration"
   ]
  },
  {
   "cell_type": "code",
   "execution_count": null,
   "id": "9c439ee9",
   "metadata": {
    "tags": []
   },
   "outputs": [],
   "source": [
    "df.head()\n"
   ]
  },
  {
   "cell_type": "code",
   "execution_count": null,
   "id": "e9d3010a-874a-4ea6-b8f6-d26466dae6b7",
   "metadata": {},
   "outputs": [],
   "source": [
    "df.shape"
   ]
  },
  {
   "cell_type": "markdown",
   "id": "c6c1619d-6938-4191-861c-b6719809adf3",
   "metadata": {},
   "source": [
    "let's drop some corrupted data. I like where start date is higher then end date, that's sure the data is corrupted and if we look at durations of the trip it does not match"
   ]
  },
  {
   "cell_type": "code",
   "execution_count": null,
   "id": "54447276-734f-4c92-bb10-3a8dd118ddcd",
   "metadata": {},
   "outputs": [],
   "source": [
    "df[df.start_date_as_dt >= df.end_date_as_dt]"
   ]
  },
  {
   "cell_type": "code",
   "execution_count": null,
   "id": "188647ec-8ffa-420d-b664-9f6662110089",
   "metadata": {},
   "outputs": [],
   "source": [
    "df[df.start_date_as_dt >= df.end_date_as_dt].count()"
   ]
  },
  {
   "cell_type": "code",
   "execution_count": null,
   "id": "89304d36-8876-4236-87fc-17cb3d184977",
   "metadata": {},
   "outputs": [],
   "source": [
    "df.drop(df[df.start_date_as_dt >= df.end_date_as_dt].index, inplace = True)"
   ]
  },
  {
   "cell_type": "code",
   "execution_count": null,
   "id": "82ef7581-fb3c-46bb-a3aa-6afc3c0ebd24",
   "metadata": {},
   "outputs": [],
   "source": [
    "df.shape"
   ]
  },
  {
   "cell_type": "code",
   "execution_count": null,
   "id": "33a491f2-bf52-48f2-b0c1-b4df5d7aa9cc",
   "metadata": {},
   "outputs": [],
   "source": [
    "df[df.duration <0]\n"
   ]
  },
  {
   "cell_type": "code",
   "execution_count": null,
   "id": "99234d03-565b-4cf9-8173-a778f0d97617",
   "metadata": {},
   "outputs": [],
   "source": [
    "df.start_date_as_dt.max()"
   ]
  },
  {
   "cell_type": "code",
   "execution_count": null,
   "id": "b5eb4387-94c6-408c-b3c1-b939ac010218",
   "metadata": {},
   "outputs": [],
   "source": [
    "df.start_date_as_dt.min()\n"
   ]
  },
  {
   "cell_type": "code",
   "execution_count": null,
   "id": "3b8561b9",
   "metadata": {},
   "outputs": [],
   "source": [
    "df.shape\n"
   ]
  },
  {
   "cell_type": "code",
   "execution_count": null,
   "id": "def8e8c5",
   "metadata": {},
   "outputs": [],
   "source": [
    "df.dtypes\n"
   ]
  },
  {
   "cell_type": "code",
   "execution_count": null,
   "id": "28721817",
   "metadata": {},
   "outputs": [],
   "source": [
    "# This code takes time...\n",
    "#profile = ProfileReport(df, title=\"Pandas Profiling Report\", minimal=True) # for large dataset minimal = True"
   ]
  },
  {
   "cell_type": "code",
   "execution_count": null,
   "id": "8311912d",
   "metadata": {},
   "outputs": [],
   "source": [
    "df.columns"
   ]
  },
  {
   "cell_type": "code",
   "execution_count": null,
   "id": "cf707b18",
   "metadata": {},
   "outputs": [],
   "source": [
    "# This code will generate an output html file in this directory. Click on that file to get a summery of the data\n",
    "#profile.to_file(\"output.html\")"
   ]
  },
  {
   "cell_type": "markdown",
   "id": "c32764d9",
   "metadata": {},
   "source": [
    "\n",
    "From profile report we see that start_station_id and endstatiuon_id \n",
    "have missing values but the start station name and end station name have \n",
    "no missiong values . So we will use start and end station names instead of their ids. \n",
    "end_station_logical_terminal, start_station_logical_terminal, end_station_priority_id are full of nans,\n",
    "so we avoid them for present analyis. "
   ]
  },
  {
   "cell_type": "code",
   "execution_count": null,
   "id": "3c43b9c8",
   "metadata": {},
   "outputs": [],
   "source": [
    "df.head()"
   ]
  },
  {
   "cell_type": "code",
   "execution_count": null,
   "id": "2722bdfc",
   "metadata": {},
   "outputs": [],
   "source": [
    "df.dtypes"
   ]
  },
  {
   "cell_type": "code",
   "execution_count": null,
   "id": "3adf28c4",
   "metadata": {},
   "outputs": [],
   "source": [
    "df.shape"
   ]
  },
  {
   "cell_type": "code",
   "execution_count": null,
   "id": "2be8a039-fe1d-4402-bad1-533914689b95",
   "metadata": {},
   "outputs": [],
   "source": [
    "df.head()"
   ]
  },
  {
   "cell_type": "markdown",
   "id": "d1383717",
   "metadata": {},
   "source": [
    "The duration seems like in seconds. To have a better visualizations we convert in to minutes"
   ]
  },
  {
   "cell_type": "code",
   "execution_count": null,
   "id": "6e7216c2",
   "metadata": {},
   "outputs": [],
   "source": [
    "df['duration_in_minutes'] = df.duration/60"
   ]
  },
  {
   "cell_type": "code",
   "execution_count": null,
   "id": "aa550453-9066-4e1f-ad4e-eaa77a99ba9e",
   "metadata": {},
   "outputs": [],
   "source": [
    "df['duration_in_hours'] = df.duration/3600"
   ]
  },
  {
   "cell_type": "code",
   "execution_count": null,
   "id": "5bb44a49-8d0f-439d-99fd-841e2b7e916c",
   "metadata": {},
   "outputs": [],
   "source": [
    "df.head()"
   ]
  },
  {
   "cell_type": "code",
   "execution_count": null,
   "id": "de0acfb4-73f2-49e4-9c87-d7949bfa0b46",
   "metadata": {},
   "outputs": [],
   "source": [
    "df = df[['rental_id', 'duration','duration_in_minutes','duration_in_hours',\n",
    "       'end_station_name', 'start_date_as_dt' ,'end_date_as_dt',  \n",
    "       'start_station_name']]\n",
    "\n",
    "df.rename(columns={\"start_date_as_dt\": \"start_date\", \"end_date_as_dt\": \"end_date\"}, inplace = True)\n",
    "df.head()"
   ]
  },
  {
   "cell_type": "code",
   "execution_count": null,
   "id": "5776e41d-bb29-4dec-8253-c72d18bc2cae",
   "metadata": {},
   "outputs": [],
   "source": [
    "df['duration_in_days'] = df.duration/(3600*24)"
   ]
  },
  {
   "cell_type": "code",
   "execution_count": null,
   "id": "43b1147a-b289-436b-9f79-62a7724b482f",
   "metadata": {},
   "outputs": [],
   "source": [
    "df[df.duration_in_days > 30]"
   ]
  },
  {
   "cell_type": "markdown",
   "id": "15c5348f-70ed-4eac-8bea-c11e3b192300",
   "metadata": {},
   "source": [
    "# Data Analysis"
   ]
  },
  {
   "cell_type": "code",
   "execution_count": null,
   "id": "02849264-7d70-4315-a478-4452ac924630",
   "metadata": {},
   "outputs": [],
   "source": [
    "df.duration_in_minutes.value_counts()"
   ]
  },
  {
   "cell_type": "code",
   "execution_count": null,
   "id": "e607853a-914d-4027-a1bf-9ab01fb6e916",
   "metadata": {},
   "outputs": [],
   "source": [
    "df.duration"
   ]
  },
  {
   "cell_type": "markdown",
   "id": "2767f3bb",
   "metadata": {},
   "source": [
    "The data is big for the machines to analyze. so we do the analysis step by step. first grab the data only for a random date 27_01_2015. we see it already contains 25000 rows. Just for a single day!"
   ]
  },
  {
   "cell_type": "code",
   "execution_count": null,
   "id": "38b65ea9",
   "metadata": {},
   "outputs": [],
   "source": [
    "df_27_01_2015 = df[(df.start_date.dt.year == 2015) & (df.start_date.dt.month == 1) & (df.start_date.dt.day == 27)].reset_index()\n",
    "\n"
   ]
  },
  {
   "cell_type": "code",
   "execution_count": null,
   "id": "0fb87bb8",
   "metadata": {},
   "outputs": [],
   "source": [
    "df_27_01_2015"
   ]
  },
  {
   "cell_type": "code",
   "execution_count": null,
   "id": "fd7800e6",
   "metadata": {},
   "outputs": [],
   "source": [
    "df_27_01_2015.shape"
   ]
  },
  {
   "cell_type": "code",
   "execution_count": null,
   "id": "ea6f43cf-dc8a-4eb8-b854-379ef9847929",
   "metadata": {},
   "outputs": [],
   "source": [
    "df_27_01_2015.to_csv('df_27_01_2015.csv')"
   ]
  },
  {
   "cell_type": "markdown",
   "id": "d8f15333-696c-40be-be64-44dfa0db7346",
   "metadata": {},
   "source": [
    "Let's merge this dataframe with cycle stations to get co-ordinates of start and end stations.\n",
    "Therefore first merging is based on start station names and second one is based on end station names"
   ]
  },
  {
   "cell_type": "code",
   "execution_count": null,
   "id": "575f3f24-0db0-47c4-a3a7-ca435ed25918",
   "metadata": {},
   "outputs": [],
   "source": [
    "df1 = df_27_01_2015.merge(stations, how = 'inner', left_on = 'start_station_name', right_on = 'name', suffixes=('_x', '_y'))"
   ]
  },
  {
   "cell_type": "code",
   "execution_count": null,
   "id": "038ba770-a105-406c-8af0-89f2f4ce641d",
   "metadata": {},
   "outputs": [],
   "source": [
    "df1.columns"
   ]
  },
  {
   "cell_type": "code",
   "execution_count": null,
   "id": "05a8b7f8-a861-4dd8-a36e-6ed69ee2d817",
   "metadata": {},
   "outputs": [],
   "source": [
    "df1 = df1[['rental_id', 'duration_in_minutes', 'end_station_name',\n",
    "        'start_station_name',\n",
    "       'latitude','longitude']]"
   ]
  },
  {
   "cell_type": "code",
   "execution_count": null,
   "id": "ad4e9fd5-6fc0-489f-beb1-bb0ff71d9266",
   "metadata": {},
   "outputs": [],
   "source": [
    "df1.rename(columns= {'latitude': 'start_latitude', 'longitude': 'start_longitude'}, inplace= True)"
   ]
  },
  {
   "cell_type": "code",
   "execution_count": null,
   "id": "ac62fe30-705b-416f-b18b-9f2325cb2ff7",
   "metadata": {},
   "outputs": [],
   "source": [
    "df1"
   ]
  },
  {
   "cell_type": "markdown",
   "id": "9809102f-817d-483c-b2bf-b0e1715710dc",
   "metadata": {},
   "source": [
    "now we do the same for end stations"
   ]
  },
  {
   "cell_type": "code",
   "execution_count": null,
   "id": "28db8e97-a82a-48b1-b264-afed51edbc16",
   "metadata": {},
   "outputs": [],
   "source": [
    "df_with_coordinates = df1.merge(stations, how = 'inner', left_on = 'end_station_name', right_on = 'name', suffixes=('_x', '_y'))"
   ]
  },
  {
   "cell_type": "code",
   "execution_count": null,
   "id": "125177e2-f593-43fc-b051-e3e5bb334682",
   "metadata": {},
   "outputs": [],
   "source": [
    "df_with_coordinates.columns"
   ]
  },
  {
   "cell_type": "code",
   "execution_count": null,
   "id": "85230816-7839-4602-a260-e8f690c7d08a",
   "metadata": {},
   "outputs": [],
   "source": [
    "df_with_coordinates = df_with_coordinates[['rental_id', 'duration_in_minutes', 'end_station_name',\n",
    "       'start_station_name', 'start_latitude', 'start_longitude',  'latitude', 'longitude']]"
   ]
  },
  {
   "cell_type": "code",
   "execution_count": null,
   "id": "937986c8-f6f6-4582-a291-969cca649eb8",
   "metadata": {},
   "outputs": [],
   "source": [
    "df_with_coordinates.rename(columns= {'latitude': 'end_latitude', 'longitude': 'end_longitude'}, inplace= True)\n"
   ]
  },
  {
   "cell_type": "code",
   "execution_count": null,
   "id": "2b4fa437-ec86-40b9-a9d1-6e062622d65e",
   "metadata": {},
   "outputs": [],
   "source": [
    "df_with_coordinates"
   ]
  },
  {
   "cell_type": "markdown",
   "id": "a5ff6276-3cc6-4e6a-b9bb-400cfd061ed0",
   "metadata": {},
   "source": [
    "##### Suppose we want to know most popular routes on that day"
   ]
  },
  {
   "cell_type": "code",
   "execution_count": null,
   "id": "a60c3d6e-e6d5-4491-babf-06d23eaf5944",
   "metadata": {},
   "outputs": [],
   "source": [
    "routes = pd.DataFrame(df_with_coordinates.groupby(['start_station_name','end_station_name']).size().sort_values(ascending = False).reset_index())"
   ]
  },
  {
   "cell_type": "code",
   "execution_count": null,
   "id": "53ec7659-15a7-4e47-b376-af1bef416be3",
   "metadata": {},
   "outputs": [],
   "source": [
    "routes.columns = ['start_station','end_station', 'number of times this route used']"
   ]
  },
  {
   "cell_type": "code",
   "execution_count": null,
   "id": "63a0440f-2a60-4e11-94e1-e87e7aad19e6",
   "metadata": {},
   "outputs": [],
   "source": [
    "# 10 most popular routes\n",
    "routes.head(10)"
   ]
  },
  {
   "cell_type": "markdown",
   "id": "8bbb4948",
   "metadata": {},
   "source": [
    "##### Let's see most popular start stations at 27/01/2015"
   ]
  },
  {
   "cell_type": "markdown",
   "id": "e5edc600-1649-40d8-be55-6bc8689311d7",
   "metadata": {},
   "source": [
    "Top 10 start stations\n"
   ]
  },
  {
   "cell_type": "code",
   "execution_count": null,
   "id": "2e7615c6-20d4-4c7b-bc08-c50fd51fe666",
   "metadata": {},
   "outputs": [],
   "source": [
    "station_groupby = pd.DataFrame(df_27_01_2015.groupby(['start_station_name']).count().sort_values(by = 'rental_id', ascending = False).reset_index())\n"
   ]
  },
  {
   "cell_type": "code",
   "execution_count": null,
   "id": "551d8c4d-9d6e-4ca9-a65e-88c63b50b321",
   "metadata": {},
   "outputs": [],
   "source": [
    "# To get the co-ordinate of the popular start stations\n",
    "start_locations = station_groupby.merge(stations, how = 'inner', left_on = 'start_station_name', right_on = 'name', suffixes=('_x', '_y'))\n"
   ]
  },
  {
   "cell_type": "code",
   "execution_count": null,
   "id": "af2618f1-d828-41ea-ad55-d621382d87d1",
   "metadata": {},
   "outputs": [],
   "source": [
    "start_locations "
   ]
  },
  {
   "cell_type": "code",
   "execution_count": null,
   "id": "8d7d1f28-8ced-4774-9eea-a0e88552a660",
   "metadata": {},
   "outputs": [],
   "source": [
    "start_locations.columns "
   ]
  },
  {
   "cell_type": "code",
   "execution_count": null,
   "id": "039542f0-381e-47b2-af2f-5bc2494913e8",
   "metadata": {},
   "outputs": [],
   "source": [
    "start_location_coordinates = start_locations[['start_station_name','rental_id', 'latitude','longitude']]"
   ]
  },
  {
   "cell_type": "code",
   "execution_count": null,
   "id": "0a28cb0e-9c6f-4bd8-8de3-454eab2bd2e8",
   "metadata": {},
   "outputs": [],
   "source": [
    "start_location_coordinates.rename(columns ={\"rental_id\" : \"Number of rides\"}, inplace = True)"
   ]
  },
  {
   "cell_type": "code",
   "execution_count": null,
   "id": "e4d83781-33c9-43e2-8712-62920b485ba9",
   "metadata": {},
   "outputs": [],
   "source": [
    "start_location_coordinates"
   ]
  },
  {
   "cell_type": "code",
   "execution_count": null,
   "id": "32b837ff-7a36-4744-8e90-24ef4b9424db",
   "metadata": {},
   "outputs": [],
   "source": [
    "start_location_coordinates.shape"
   ]
  },
  {
   "cell_type": "code",
   "execution_count": null,
   "id": "090ed220-bde9-460e-a647-f4b4dca902ae",
   "metadata": {},
   "outputs": [],
   "source": [
    "start_location_coordinates.to_csv('start_location_coordinates.csv',index=False)\n"
   ]
  },
  {
   "cell_type": "code",
   "execution_count": null,
   "id": "12658a2d-bfee-446c-b496-58803fc7c64f",
   "metadata": {},
   "outputs": [],
   "source": [
    "station_groupby = station_groupby.head(20)"
   ]
  },
  {
   "cell_type": "code",
   "execution_count": null,
   "id": "36ee77dc-d860-4dd0-8c85-f163dc0c223f",
   "metadata": {},
   "outputs": [],
   "source": [
    "station_groupby"
   ]
  },
  {
   "cell_type": "markdown",
   "id": "680f5d7b-488b-472e-84aa-824333fad1f7",
   "metadata": {},
   "source": [
    "Top 10 destination stations"
   ]
  },
  {
   "cell_type": "code",
   "execution_count": null,
   "id": "0cbc91b1-c425-40e6-9231-efe1b3e27832",
   "metadata": {},
   "outputs": [],
   "source": [
    "end_station_groupby = pd.DataFrame(df_27_01_2015.groupby(['end_station_name']).count().sort_values(by = 'rental_id', ascending = False).reset_index())"
   ]
  },
  {
   "cell_type": "code",
   "execution_count": null,
   "id": "7f79657a-db90-45d3-b130-1fe565618157",
   "metadata": {},
   "outputs": [],
   "source": [
    "end_station_groupby"
   ]
  },
  {
   "cell_type": "code",
   "execution_count": null,
   "id": "0fff4b23-ed9e-4089-bf3e-404a06b9c583",
   "metadata": {},
   "outputs": [],
   "source": [
    "# plot popular start stations\n",
    "station_groupby = station_groupby.head(10)\n",
    "import seaborn as sns\n",
    "sns.set_theme(style=\"whitegrid\")\n",
    "fig, ax = plt.subplots(figsize=(8, 5)) \n",
    "ax = sns.barplot(x=\"start_station_name\", y=\"rental_id\", data=station_groupby)\n",
    "ax.set(xlabel=\"Start Stations\", ylabel = \"Number of the hires\", title = 'Most popular start stations in 27/01/2015')\n",
    "plt.xticks(rotation=90)\n",
    "plt.show()"
   ]
  },
  {
   "cell_type": "code",
   "execution_count": null,
   "id": "055dcade-bf83-417b-b80b-6004258b9a1e",
   "metadata": {},
   "outputs": [],
   "source": [
    "# plot popular end stations\n",
    "end_station_groupby = end_station_groupby.head(10)\n",
    "import seaborn as sns\n",
    "sns.set_theme(style=\"whitegrid\")\n",
    "fig, ax = plt.subplots(figsize=(8, 5)) \n",
    "ax = sns.barplot(x=\"end_station_name\", y=\"rental_id\", data=end_station_groupby)\n",
    "ax.set(xlabel=\"Destination Stations\", ylabel = \"Number of the hires\", title = 'Most popular destination stations in 27/01/2015')\n",
    "plt.xticks(rotation=90)\n",
    "plt.show()"
   ]
  },
  {
   "cell_type": "markdown",
   "id": "6f7701bc-e66c-4cae-9f0f-18f3f2c46b42",
   "metadata": {},
   "source": [
    "##### We want to know at which hour most bikes are hired"
   ]
  },
  {
   "cell_type": "code",
   "execution_count": null,
   "id": "22361b83-f3d3-4a77-a07f-607de6c1dd38",
   "metadata": {},
   "outputs": [],
   "source": [
    "time_group = pd.DataFrame(df_27_01_2015.groupby(pd.Grouper(key=\"start_date\", freq=\"1H\")).count().reset_index())"
   ]
  },
  {
   "cell_type": "code",
   "execution_count": null,
   "id": "9520b2e9-095b-4023-8e48-374e7b502b55",
   "metadata": {},
   "outputs": [],
   "source": [
    "time_group = time_group[['start_date', 'rental_id']]"
   ]
  },
  {
   "cell_type": "code",
   "execution_count": null,
   "id": "5632ffc8-8486-44a5-ac72-fafbc01c2282",
   "metadata": {},
   "outputs": [],
   "source": [
    "time_group['hours'] = range(24)"
   ]
  },
  {
   "cell_type": "code",
   "execution_count": null,
   "id": "42172a0d-e886-4ec9-b4b3-e7d05631180e",
   "metadata": {},
   "outputs": [],
   "source": [
    "time_group.rename(columns ={'rental_id':'number_of_rides'}, inplace = True)"
   ]
  },
  {
   "cell_type": "code",
   "execution_count": null,
   "id": "71fd7533-942d-4eba-b43f-54263b7287ef",
   "metadata": {},
   "outputs": [],
   "source": [
    "time_group.to_csv('hourly_bike_hiring.csv')"
   ]
  },
  {
   "cell_type": "code",
   "execution_count": null,
   "id": "1ebb604d-6ffd-43ab-a0b4-789c93b70c66",
   "metadata": {},
   "outputs": [],
   "source": [
    "# plot popular end stations\n",
    "import seaborn as sns\n",
    "sns.set_theme(style=\"whitegrid\")\n",
    "fig, ax = plt.subplots(figsize=(8, 5)) \n",
    "ax = sns.barplot(x=\"hours\", y='number_of_rides', data=time_group)\n",
    "ax.set(xlabel=\"Hours of the day\", ylabel = \"Number of hires\", title = 'Hourly bike hires at 27/01/2015')\n",
    "plt.xticks(rotation=90)\n",
    "plt.show()"
   ]
  },
  {
   "cell_type": "markdown",
   "id": "493dd3d7-1c32-449b-95cf-981402720e91",
   "metadata": {},
   "source": [
    "# Modeling, training and testing with Facebook prophet"
   ]
  },
  {
   "cell_type": "markdown",
   "id": "92b70297-1a44-440d-88ec-d261f7f54b8e",
   "metadata": {},
   "source": [
    "#### Iteration 1: Prepare the data for facebook prophet, it needs two columns, y and ds. we already aggregated the required data from Bigquery. we will read it and have a look on it first"
   ]
  },
  {
   "cell_type": "code",
   "execution_count": null,
   "id": "f2564e7b-fce0-4de4-b99f-0962b06783a9",
   "metadata": {},
   "outputs": [],
   "source": [
    "Bikehiring_by_date = pd.read_csv('Bikehiring_per_day.csv')"
   ]
  },
  {
   "cell_type": "code",
   "execution_count": null,
   "id": "e69c03f4-e7dd-42cc-98eb-86561d620772",
   "metadata": {},
   "outputs": [],
   "source": [
    "Bikehiring_by_date"
   ]
  },
  {
   "cell_type": "code",
   "execution_count": null,
   "id": "aedd8cb9-eeac-4293-9208-94cdda25b8f8",
   "metadata": {},
   "outputs": [],
   "source": [
    "Bikehiring_by_date.columns = ['y', 'ds']"
   ]
  },
  {
   "cell_type": "code",
   "execution_count": null,
   "id": "f8a01307-1e6d-4b56-8baa-87aa3433a7e8",
   "metadata": {},
   "outputs": [],
   "source": [
    "Bikehiring_by_date.dtypes"
   ]
  },
  {
   "cell_type": "markdown",
   "id": "edca702d-3f4e-4977-836e-90d9d872cd2e",
   "metadata": {},
   "source": [
    "Facebook Prophet needs the data in date time format"
   ]
  },
  {
   "cell_type": "code",
   "execution_count": null,
   "id": "08a2c00a-d445-4542-bf3c-9f51c1fd439c",
   "metadata": {},
   "outputs": [],
   "source": [
    "Bikehiring_by_date.ds =  pd.to_datetime(Bikehiring_by_date.ds)"
   ]
  },
  {
   "cell_type": "code",
   "execution_count": null,
   "id": "27a64f6b-f1d1-4c1a-b42a-75a2ac6df470",
   "metadata": {},
   "outputs": [],
   "source": [
    "# check again\n",
    "Bikehiring_by_date.dtypes"
   ]
  },
  {
   "cell_type": "code",
   "execution_count": null,
   "id": "31a6a9ee-c8e9-4c13-b222-703d4e103e98",
   "metadata": {},
   "outputs": [],
   "source": [
    "#import libraries\n",
    "from prophet import Prophet"
   ]
  },
  {
   "cell_type": "code",
   "execution_count": null,
   "id": "8212f90d-abd9-45f8-b5b3-fb014335bcc5",
   "metadata": {},
   "outputs": [],
   "source": [
    "# Initialize the model\n",
    "model_v1 = Prophet(interval_width= 0.95, daily_seasonality= True)"
   ]
  },
  {
   "cell_type": "code",
   "execution_count": null,
   "id": "a6ef463e-8e77-4c49-9d34-3751f96f2c07",
   "metadata": {},
   "outputs": [],
   "source": [
    "#fit the model\n",
    "model_v1.fit(Bikehiring_by_date)"
   ]
  },
  {
   "cell_type": "code",
   "execution_count": null,
   "id": "a0322812-15a3-46eb-8ca9-ea17f5ffaab3",
   "metadata": {},
   "outputs": [],
   "source": [
    "#forcast"
   ]
  },
  {
   "cell_type": "code",
   "execution_count": null,
   "id": "9138fbdc-57fb-47d1-8f76-4c3b49957ab1",
   "metadata": {},
   "outputs": [],
   "source": [
    "future = model_v1.make_future_dataframe(periods = 100, freq = 'D')\n",
    "forcast = model_v1.predict(future)\n",
    "forcast.head()"
   ]
  },
  {
   "cell_type": "code",
   "execution_count": null,
   "id": "a1e494bc-616d-4c1b-8167-7eb665152270",
   "metadata": {},
   "outputs": [],
   "source": [
    "forcast.tail()"
   ]
  },
  {
   "cell_type": "code",
   "execution_count": null,
   "id": "65c07d9e-d9fb-4d1f-8726-f531af7ad283",
   "metadata": {},
   "outputs": [],
   "source": [
    "plot1 = model_v1.plot(forcast)"
   ]
  },
  {
   "cell_type": "code",
   "execution_count": null,
   "id": "f7a320a0-7dff-4b9e-94ee-78006e35ef69",
   "metadata": {},
   "outputs": [],
   "source": [
    "plot2 = model_v1.plot_components(forcast)"
   ]
  },
  {
   "cell_type": "markdown",
   "id": "927fc067-b2e5-4cf4-abfd-c268a14a3ba2",
   "metadata": {},
   "source": [
    "#### Iteration 2: Adding holiday feature to the model\n",
    "##### Now we modify the model and add some new parameters"
   ]
  },
  {
   "cell_type": "code",
   "execution_count": null,
   "id": "bfd49428-3be6-4cfb-bd85-37e4a2bc675e",
   "metadata": {},
   "outputs": [],
   "source": [
    "m = Prophet(yearly_seasonality = True)\n",
    "m.add_country_holidays(country_name='UK')\n",
    "m.fit(Bikehiring_by_date)"
   ]
  },
  {
   "cell_type": "code",
   "execution_count": null,
   "id": "25598684-0c1c-4b8c-bcc8-c43c037aae07",
   "metadata": {},
   "outputs": [],
   "source": [
    "future = m.make_future_dataframe(periods = 100, freq = 'D')\n",
    "forcast = m.predict(future)\n",
    "forcast.head()"
   ]
  },
  {
   "cell_type": "code",
   "execution_count": null,
   "id": "68696b89-1b31-43c9-9eaf-35225d7b052e",
   "metadata": {},
   "outputs": [],
   "source": [
    "plot3 = m.plot(forcast)"
   ]
  },
  {
   "cell_type": "code",
   "execution_count": null,
   "id": "9438b932-8612-410d-acb1-ab7c5efc2e2f",
   "metadata": {},
   "outputs": [],
   "source": [
    "plot3 = m.plot_components(forcast)"
   ]
  },
  {
   "cell_type": "code",
   "execution_count": null,
   "id": "b431d060-4e6d-4e5c-a924-d74e8aab23f2",
   "metadata": {},
   "outputs": [],
   "source": [
    "# names of the holidays\n",
    "m.train_holiday_names"
   ]
  },
  {
   "cell_type": "markdown",
   "id": "17811769-f2e2-498b-87ed-c540410f8ab1",
   "metadata": {},
   "source": [
    "#### Iteration 3: Try the same with a larger dataset\n",
    "#### Now we look at a dataset that is larger and which contains bike hiring stats from 2010 to present. We plug it into times series analysis of facebook prophet\n"
   ]
  },
  {
   "cell_type": "code",
   "execution_count": null,
   "id": "46a250df-5941-46a8-8001-714d96e3e027",
   "metadata": {},
   "outputs": [],
   "source": [
    "bikehiring_from_2010 = pd.read_excel('bikehiring_from_2010.xlsx')"
   ]
  },
  {
   "cell_type": "code",
   "execution_count": null,
   "id": "8796654d-bf6a-4568-ba73-a81173073e58",
   "metadata": {},
   "outputs": [],
   "source": [
    "bikehiring_from_2010"
   ]
  },
  {
   "cell_type": "code",
   "execution_count": null,
   "id": "a46cd16d-bc55-4763-ad00-eb05567f71be",
   "metadata": {},
   "outputs": [],
   "source": [
    "bikehiring_from_2010.columns = ['ds', 'y']"
   ]
  },
  {
   "cell_type": "code",
   "execution_count": null,
   "id": "a90611a9-c031-4f3a-bfab-2f3e503b594a",
   "metadata": {},
   "outputs": [],
   "source": [
    "bikehiring_from_2010.dtypes"
   ]
  },
  {
   "cell_type": "code",
   "execution_count": null,
   "id": "3bf7061d-667e-41e8-a6ad-6b3f84935d48",
   "metadata": {},
   "outputs": [],
   "source": [
    "m = Prophet(daily_seasonality = True)\n",
    "m.add_country_holidays(country_name='UK')\n",
    "m.fit(bikehiring_from_2010)"
   ]
  },
  {
   "cell_type": "code",
   "execution_count": null,
   "id": "70bb6296-3000-465a-b696-0174c74cbdd2",
   "metadata": {},
   "outputs": [],
   "source": [
    "future = m.make_future_dataframe(periods = 100, freq = 'D')\n",
    "forcast = m.predict(future)\n",
    "forcast.head()"
   ]
  },
  {
   "cell_type": "code",
   "execution_count": null,
   "id": "062529c1-341d-49ff-90e7-722faf4a3ad6",
   "metadata": {},
   "outputs": [],
   "source": [
    "plot5 = m.plot(forcast)"
   ]
  },
  {
   "cell_type": "code",
   "execution_count": null,
   "id": "c7bbb8df-1c3e-41aa-be0a-bd27fd595274",
   "metadata": {},
   "outputs": [],
   "source": [
    "plot6 = m.plot_components(forcast)"
   ]
  },
  {
   "cell_type": "markdown",
   "id": "8ce27fe4-bf76-449a-8093-bf51e1d9462a",
   "metadata": {},
   "source": [
    "#### Iteration 4: Tune the model with on and off season"
   ]
  },
  {
   "cell_type": "code",
   "execution_count": null,
   "id": "c4a158df-e70e-49d6-82cc-a0defedd747d",
   "metadata": {},
   "outputs": [],
   "source": [
    "def is_nfl_season(ds):\n",
    "    date = pd.to_datetime(ds)\n",
    "    return (date.month < 7 or date.month > 3)"
   ]
  },
  {
   "cell_type": "code",
   "execution_count": null,
   "id": "a7a3e761-562c-4005-bc57-44fc2c4bc10b",
   "metadata": {},
   "outputs": [],
   "source": [
    "\n",
    "bikehiring_from_2010['on_season'] = bikehiring_from_2010['ds'].apply(is_nfl_season)\n",
    "bikehiring_from_2010['off_season'] = ~bikehiring_from_2010['ds'].apply(is_nfl_season)"
   ]
  },
  {
   "cell_type": "code",
   "execution_count": null,
   "id": "4a4654a6-c43a-4c29-b270-aabb596bc4cf",
   "metadata": {},
   "outputs": [],
   "source": [
    "m = Prophet(weekly_seasonality=False)\n",
    "m.add_seasonality(name='weekly_on_season', period=7, fourier_order=3, condition_name='on_season')\n",
    "m.add_seasonality(name='weekly_off_season', period=7, fourier_order=3, condition_name='off_season')\n",
    "\n",
    "future['on_season'] = future['ds'].apply(is_nfl_season)\n",
    "future['off_season'] = ~future['ds'].apply(is_nfl_season)\n",
    "forecast = m.fit(bikehiring_from_2010).predict(future)\n",
    "fig = m.plot_components(forecast)"
   ]
  },
  {
   "cell_type": "code",
   "execution_count": null,
   "id": "a54900a8-0c85-418d-ae99-aab851b54d5e",
   "metadata": {},
   "outputs": [],
   "source": [
    "bikehiring_from_2010"
   ]
  },
  {
   "cell_type": "markdown",
   "id": "8bcbd37d-805f-486e-b155-39b9b6052435",
   "metadata": {},
   "source": [
    "#### Iteration 5: Validate the model (Cross validation) - Create Train and Test dataset from available data based on years, look at the change points of the trend and then perform cross validation"
   ]
  },
  {
   "cell_type": "code",
   "execution_count": null,
   "id": "223cd095-448f-4902-85bd-3cee1e5eca83",
   "metadata": {},
   "outputs": [],
   "source": [
    "train = bikehiring_from_2010[ (bikehiring_from_2010.ds >= '2010-01-01') & (bikehiring_from_2010.ds < '2017-01-01')]"
   ]
  },
  {
   "cell_type": "code",
   "execution_count": null,
   "id": "d2f60b3c-da8e-4287-bd05-983d75d705d6",
   "metadata": {},
   "outputs": [],
   "source": [
    "train.shape"
   ]
  },
  {
   "cell_type": "code",
   "execution_count": null,
   "id": "d233e909-cb61-49f8-98bf-f305b8779f4e",
   "metadata": {},
   "outputs": [],
   "source": [
    "test = bikehiring_from_2010[ (bikehiring_from_2010.ds >= '2017-01-01') & (bikehiring_from_2010.ds < '2019-01-01')]"
   ]
  },
  {
   "cell_type": "code",
   "execution_count": null,
   "id": "f2c43fc5-6748-4570-be56-95ecd87416bf",
   "metadata": {},
   "outputs": [],
   "source": [
    "train = train[['ds', 'y']]"
   ]
  },
  {
   "cell_type": "code",
   "execution_count": null,
   "id": "ad0f60a7-ff5f-4ee3-961d-a4fc061b0681",
   "metadata": {},
   "outputs": [],
   "source": [
    "test.shape"
   ]
  },
  {
   "cell_type": "code",
   "execution_count": null,
   "id": "1631a819-8f10-4a0e-aacf-d348a0969f8e",
   "metadata": {},
   "outputs": [],
   "source": [
    "bikehiring_from_2010.shape"
   ]
  },
  {
   "cell_type": "code",
   "execution_count": null,
   "id": "1e44d904-b83b-4a5c-b1e1-98135effbf6d",
   "metadata": {},
   "outputs": [],
   "source": [
    "test = test[['ds', 'y']]"
   ]
  },
  {
   "cell_type": "markdown",
   "id": "9b6d7eae-051f-49f7-be0a-16170f4190b8",
   "metadata": {},
   "source": [
    "##### Train the model with yearly seasonality"
   ]
  },
  {
   "cell_type": "code",
   "execution_count": null,
   "id": "a4b4b921-2792-4be6-86df-dc2bfa60d678",
   "metadata": {},
   "outputs": [],
   "source": [
    "m = Prophet(interval_width = 0.95, yearly_seasonality= True)"
   ]
  },
  {
   "cell_type": "code",
   "execution_count": null,
   "id": "c7147d23-bd67-4009-aee6-e95f91cf0258",
   "metadata": {},
   "outputs": [],
   "source": [
    "m.fit(train)"
   ]
  },
  {
   "cell_type": "code",
   "execution_count": null,
   "id": "ff8b8e54-b3a7-4d99-9d63-9863dbbc09d5",
   "metadata": {},
   "outputs": [],
   "source": [
    "train.ds.min()"
   ]
  },
  {
   "cell_type": "code",
   "execution_count": null,
   "id": "b508bd73-21ab-4832-87e9-91cbc15dd7b5",
   "metadata": {},
   "outputs": [],
   "source": [
    "m.params"
   ]
  },
  {
   "cell_type": "code",
   "execution_count": null,
   "id": "d1214a3f-af17-4f0d-b512-c06c5eabdaa9",
   "metadata": {},
   "outputs": [],
   "source": [
    "future = m.make_future_dataframe(periods = 730)\n",
    "future.tail"
   ]
  },
  {
   "cell_type": "code",
   "execution_count": null,
   "id": "13c445f4-e73c-4964-aa0a-fdfe7bde8706",
   "metadata": {},
   "outputs": [],
   "source": [
    "# check if future tail and test tail is same\n",
    "test.tail()"
   ]
  },
  {
   "cell_type": "code",
   "execution_count": null,
   "id": "21917b62-8a68-4bb7-a887-c48fb855392d",
   "metadata": {},
   "outputs": [],
   "source": [
    "forcast = m.predict(future)"
   ]
  },
  {
   "cell_type": "code",
   "execution_count": null,
   "id": "8f7c3c41-5ce3-4830-b734-fc2514c441fd",
   "metadata": {},
   "outputs": [],
   "source": [
    "forcast[['ds', 'yhat', 'yhat_lower', 'yhat_upper']].tail()"
   ]
  },
  {
   "cell_type": "markdown",
   "id": "5dd152e4-ef3e-43f1-886c-bd7aa098cc71",
   "metadata": {},
   "source": [
    "plot side by side the original data and the forcasted data we do it manually here by using pandas. We see that the model is prediction pretty close. \n",
    "I avoided 2020 and 2021 from original dataset as it has uniusual values due to covid and we will deal with it later"
   ]
  },
  {
   "cell_type": "code",
   "execution_count": null,
   "id": "6e8a9d2c-163d-44eb-8a99-8a01a0494be0",
   "metadata": {},
   "outputs": [],
   "source": [
    "base_dataset = bikehiring_from_2010[bikehiring_from_2010.ds < '2019-01-01' ].copy()"
   ]
  },
  {
   "cell_type": "code",
   "execution_count": null,
   "id": "82297934-ae80-4753-a3be-2f4c3a46340a",
   "metadata": {},
   "outputs": [],
   "source": [
    "\n",
    "pd.concat([base_dataset.set_index('ds')['y'], forcast.set_index('ds')['yhat']], axis = 1).plot()"
   ]
  },
  {
   "cell_type": "code",
   "execution_count": null,
   "id": "818a25cd-eb0f-4c10-9f2d-75ac2e5b11dc",
   "metadata": {},
   "outputs": [],
   "source": [
    "# use facebook prophet original plot function to do it better... we see that the actual value fall into the  95% confidence interval \n",
    "fig1 = m.plot(forcast)"
   ]
  },
  {
   "cell_type": "markdown",
   "id": "82896ab9-0e20-47f8-b43e-aca329301e3c",
   "metadata": {},
   "source": [
    "From this above plot we see data fits with the model well. the black dots are actual data and deep blue is prediction from model. Though the match but at some days there were higher number of hires may be due to good temperature in london. the model could not detect this outlayers. so in next iteration we will deal with this and add temperature for better predictions."
   ]
  },
  {
   "cell_type": "code",
   "execution_count": null,
   "id": "fb2db07c-bd4c-47c4-a370-7dcf005bb544",
   "metadata": {},
   "outputs": [],
   "source": [
    "fig2 = m.plot_components(forcast)"
   ]
  },
  {
   "cell_type": "markdown",
   "id": "d8a23cf2-6f6d-4726-a102-100077817ad8",
   "metadata": {},
   "source": [
    "We see that May to October the bike hire is highest. This is beacause summer months"
   ]
  },
  {
   "cell_type": "markdown",
   "id": "b3f8be33-93e1-4d9e-9a94-c8303cf467f8",
   "metadata": {},
   "source": [
    " Now we add the change points to see where the trend goes upward or downward"
   ]
  },
  {
   "cell_type": "code",
   "execution_count": null,
   "id": "77a46fbe-b117-4d7a-8ae1-3ce676cec78f",
   "metadata": {},
   "outputs": [],
   "source": [
    "from prophet.plot import add_changepoints_to_plot"
   ]
  },
  {
   "cell_type": "code",
   "execution_count": null,
   "id": "5b2428a7-228b-4933-9c29-b819e3bbf055",
   "metadata": {},
   "outputs": [],
   "source": [
    "fig = m.plot(forcast)\n",
    "a = add_changepoints_to_plot(fig.gca(), m, forcast)"
   ]
  },
  {
   "cell_type": "markdown",
   "id": "3fb4888b-4d41-4ff6-9757-ea70fe804984",
   "metadata": {},
   "source": [
    "To see if a negative or positive change happen and when we may plot change points "
   ]
  },
  {
   "cell_type": "code",
   "execution_count": null,
   "id": "8a7d0d33-83b7-400e-9bff-2974c15f50ff",
   "metadata": {},
   "outputs": [],
   "source": [
    "deltas = m.params['delta'].mean(0)\n",
    "deltas"
   ]
  },
  {
   "cell_type": "code",
   "execution_count": null,
   "id": "c6938fc2-5278-4ccc-8280-2bf74b61dbf8",
   "metadata": {},
   "outputs": [],
   "source": [
    "import matplotlib.pyplot as plt"
   ]
  },
  {
   "cell_type": "code",
   "execution_count": null,
   "id": "182ad135-79a4-40d0-9886-1c81e8f428b4",
   "metadata": {},
   "outputs": [],
   "source": [
    "fig = plt.figure(facecolor = 'w')\n",
    "ax = fig.add_subplot(111)\n",
    "ax.bar(range(len(deltas)), deltas)\n",
    "ax.grid(True, which = 'major', c = 'red', ls = '-', alpha = 0.2)\n",
    "ax.set_xlabel('changepoint')\n",
    "ax.set_ylabel('rate of change')\n",
    "fig.tight_layout()"
   ]
  },
  {
   "cell_type": "code",
   "execution_count": null,
   "id": "e98ef8f2-4937-49d1-b554-c60c21604fa7",
   "metadata": {},
   "outputs": [],
   "source": [
    "m.changepoints"
   ]
  },
  {
   "cell_type": "markdown",
   "id": "e298e2bd-3475-480d-a454-3da7cabfdc07",
   "metadata": {},
   "source": [
    " Use facebook default plotting for interactive plots"
   ]
  },
  {
   "cell_type": "code",
   "execution_count": null,
   "id": "527bda78-bf10-475c-95e0-27a7cb085ab8",
   "metadata": {},
   "outputs": [],
   "source": [
    "from prophet.plot import plot_plotly\n",
    "import plotly.offline as py\n",
    "fig = plot_plotly(m, forcast)\n",
    "py.iplot(fig)\n",
    "# this code did not work due to the problem in ipwidgets"
   ]
  },
  {
   "cell_type": "markdown",
   "id": "47df5fae-2b2a-4e0c-bc5e-d4645c00c53a",
   "metadata": {},
   "source": [
    "#### Iteration 5(crossvalidation)\n",
    "#### Cross validation and check Performance by using Mean Absolute Error\n",
    "\n",
    "I am telling the model that take initial 731 days to make prediction  of next 365 days and analyze the performance"
   ]
  },
  {
   "cell_type": "code",
   "execution_count": null,
   "id": "05675029-b8ae-41b9-b636-35a86bc1af98",
   "metadata": {},
   "outputs": [],
   "source": [
    "from prophet.diagnostics import cross_validation\n",
    "cv_results = cross_validation(model = m, initial='731 days', horizon = '365 days')"
   ]
  },
  {
   "cell_type": "code",
   "execution_count": null,
   "id": "3fe8c86a-4eb5-48cf-8a55-693c9099da1a",
   "metadata": {},
   "outputs": [],
   "source": [
    "cv_results"
   ]
  },
  {
   "cell_type": "code",
   "execution_count": null,
   "id": "9b342dd1-356e-468b-a6e4-9257a5ede2ba",
   "metadata": {},
   "outputs": [],
   "source": [
    "cv_results.head(10)"
   ]
  },
  {
   "cell_type": "markdown",
   "id": "e3049dc7-4780-48dc-aca4-42f488a15e97",
   "metadata": {},
   "source": [
    " see the performance using performance metrics"
   ]
  },
  {
   "cell_type": "code",
   "execution_count": null,
   "id": "012ea238-634e-47b8-9216-6b460d3bef6f",
   "metadata": {},
   "outputs": [],
   "source": [
    "from prophet.diagnostics import performance_metrics\n",
    "performance = performance_metrics(cv_results)\n",
    "performance"
   ]
  },
  {
   "cell_type": "markdown",
   "id": "995df798-b741-4106-8be7-dfd54122d0a4",
   "metadata": {},
   "source": [
    "#### Iteration 6: Multivariate time series prediction. We import temperature column and also consider it for the modeling and predictions"
   ]
  },
  {
   "cell_type": "markdown",
   "id": "6f91e723-296d-481f-9e24-94f8458d758f",
   "metadata": {},
   "source": [
    "We want to plug the temperature of london to which might influence the bike hiring so we found a dataset of waether from  Kaggle. Cleaned it only for london. Now we will further clean it to comply with our bike hiring dataset."
   ]
  },
  {
   "cell_type": "code",
   "execution_count": null,
   "id": "369a8f37-ffe4-4517-b988-75bc056ae190",
   "metadata": {},
   "outputs": [],
   "source": [
    "temperature = pd.read_csv('london_temperature_profile.csv')"
   ]
  },
  {
   "cell_type": "code",
   "execution_count": null,
   "id": "7979fc19-e7c9-466b-9d5f-7b45c57c2fbb",
   "metadata": {},
   "outputs": [],
   "source": [
    "temperature"
   ]
  },
  {
   "cell_type": "code",
   "execution_count": null,
   "id": "0f0105a2-a0cc-4bd0-82b3-5777c7e54e53",
   "metadata": {},
   "outputs": [],
   "source": [
    "# we update original bike hiring dataset to match the availabe temperature \n",
    "bike_hiring_updated = bikehiring_from_2010[bikehiring_from_2010['ds'] <= '2020-09-30']\n",
    "bike_hiring_updated"
   ]
  },
  {
   "cell_type": "code",
   "execution_count": null,
   "id": "fe705409-ada9-48e4-aeef-1fdbe75cf076",
   "metadata": {},
   "outputs": [],
   "source": [
    "print(bike_hiring_updated.ds.min())\n",
    "print(bike_hiring_updated.ds.max())"
   ]
  },
  {
   "cell_type": "code",
   "execution_count": null,
   "id": "b9d5e177-7d71-40d5-bd23-6a3efb3824ac",
   "metadata": {},
   "outputs": [],
   "source": [
    "temperature_updated = temperature[(temperature['datetime'] >= '2010-07-30') & (temperature['datetime'] <= '2021-09-30')].reset_index(drop = True)"
   ]
  },
  {
   "cell_type": "code",
   "execution_count": null,
   "id": "f8c5c8e7-a901-4266-ac5a-957c8e2b2fd1",
   "metadata": {},
   "outputs": [],
   "source": [
    "temperature_updated.shape"
   ]
  },
  {
   "cell_type": "code",
   "execution_count": null,
   "id": "61e160ad-a69b-47d9-91ea-89ade5c73c03",
   "metadata": {},
   "outputs": [],
   "source": [
    " # now we are sure both bike_hiring_updated and temperature dataframe match\n",
    "temperature_updated"
   ]
  },
  {
   "cell_type": "code",
   "execution_count": null,
   "id": "0aca3e5a-5d78-4b1e-9526-14179d3591c8",
   "metadata": {},
   "outputs": [],
   "source": [
    "bike_hiring_updated['Temperature'] = temperature_updated.loc[:, ('London')]"
   ]
  },
  {
   "cell_type": "code",
   "execution_count": null,
   "id": "9e76f8fc-8a65-4194-b494-93c1d8e7a8cb",
   "metadata": {},
   "outputs": [],
   "source": [
    "bike_hiring_updated\n"
   ]
  },
  {
   "cell_type": "code",
   "execution_count": null,
   "id": "bdb0974b-29b4-4694-bd4b-725dda08ac26",
   "metadata": {},
   "outputs": [],
   "source": [
    "bike_hiring_updated.dtypes"
   ]
  },
  {
   "cell_type": "markdown",
   "id": "b7b10db5-a133-4b41-ade4-21de86fd9d7c",
   "metadata": {},
   "source": [
    "Facebook prophet can not handle missing values in temperature column. So we check it before, impute if necessary. we do it by using temperature != temperature. This logic is only true when there is a nan in the raw. As nan can not be equal to nan."
   ]
  },
  {
   "cell_type": "code",
   "execution_count": null,
   "id": "89b7bc29-d752-4f96-9f75-221c2e801502",
   "metadata": {},
   "outputs": [],
   "source": [
    "bike_hiring_updated.query( 'Temperature != Temperature') # as we see here there is no nan in this column"
   ]
  },
  {
   "cell_type": "markdown",
   "id": "3697ed6a-ec2e-46b0-b5d5-81b38e67dec4",
   "metadata": {},
   "source": [
    "We already know the covid situation affected the bike hiring than usual in 2020. For the sake of simplicity for now we focus our analysis  to the end of 2019"
   ]
  },
  {
   "cell_type": "code",
   "execution_count": null,
   "id": "bdf0fec1-345a-43b0-968f-ef623f93d007",
   "metadata": {},
   "outputs": [],
   "source": [
    "bike_hiring_updated = bike_hiring_updated[bike_hiring_updated['ds'].dt.year < 2020 ].copy()"
   ]
  },
  {
   "cell_type": "markdown",
   "id": "e8c9c17d-6164-411a-a8bc-3a613266904a",
   "metadata": {},
   "source": [
    "We want add a column to the data frame which will indicate if the date is holiday or not. For this we installed a library called holidays. It takes the input as python date time and says if the day is holiday or not. But date object we have is in pandas timestamp format. So we again convert it to python datetime and plud into holiday function"
   ]
  },
  {
   "cell_type": "code",
   "execution_count": null,
   "id": "afe152e9-86be-40c5-a87a-5214dc9ae3cb",
   "metadata": {},
   "outputs": [],
   "source": [
    "uk_holidays = holidays.UK()"
   ]
  },
  {
   "cell_type": "code",
   "execution_count": null,
   "id": "e8ecdd90-9490-4344-885f-8f3d46722e1d",
   "metadata": {},
   "outputs": [],
   "source": [
    "bike_hiring_updated.ds[0].to_pydatetime() in uk_holidays"
   ]
  },
  {
   "cell_type": "code",
   "execution_count": null,
   "id": "f64dd71f-d208-462a-8166-1556c4e1ea56",
   "metadata": {},
   "outputs": [],
   "source": [
    "bike_hiring_updated['holiday'] =bike_hiring_updated.ds.apply(lambda row: row.to_pydatetime() in uk_holidays)"
   ]
  },
  {
   "cell_type": "code",
   "execution_count": null,
   "id": "3b82ff1c-01de-401e-9196-b4c5c5b9218a",
   "metadata": {},
   "outputs": [],
   "source": [
    "bike_hiring_updated.dtypes"
   ]
  },
  {
   "cell_type": "markdown",
   "id": "5fdc995f-33a0-43bf-8e0e-957e45680d8a",
   "metadata": {},
   "source": [
    "Let's take the months in a seperated column from the time stamp"
   ]
  },
  {
   "cell_type": "code",
   "execution_count": null,
   "id": "d03ee25e-e946-46ca-b7ff-d012c307532c",
   "metadata": {},
   "outputs": [],
   "source": [
    "bike_hiring_updated['month'] = bike_hiring_updated.ds.dt.month"
   ]
  },
  {
   "cell_type": "code",
   "execution_count": null,
   "id": "78d98dea-e5d2-49ec-88dc-853bc27b6661",
   "metadata": {},
   "outputs": [],
   "source": [
    "bike_hiring_updated['day-of-week'] = bike_hiring_updated['ds'].dt.day_name()"
   ]
  },
  {
   "cell_type": "code",
   "execution_count": null,
   "id": "24bd65e3-09d7-4fdf-bf9f-dea9f57dd0f6",
   "metadata": {},
   "outputs": [],
   "source": [
    "bike_hiring_updated"
   ]
  },
  {
   "cell_type": "code",
   "execution_count": null,
   "id": "a11fdb69-cefa-43f3-a050-676e219e91e1",
   "metadata": {},
   "outputs": [],
   "source": [
    "bike_hiring_updated['log_y'] = np.log(bike_hiring_updated.y)"
   ]
  },
  {
   "cell_type": "code",
   "execution_count": null,
   "id": "73a6d5d9-e0f1-4d3e-bf7e-6c24ee9d7c7b",
   "metadata": {},
   "outputs": [],
   "source": [
    "bike_hiring_updated.hvplot.line(x='ds', y= 'log_y')"
   ]
  },
  {
   "cell_type": "code",
   "execution_count": null,
   "id": "9ad47f33-984f-41ad-a9bd-0394bdaf534e",
   "metadata": {},
   "outputs": [],
   "source": [
    "bike_hiring_updated.hvplot.line(x='ds', y= 'y', \n",
    "                                hover_cols = ['ds','day-of-week','on_season','off_season','Temperature', 'y', 'holiday'], \n",
    "                                title= 'YEARLY BIKE HIRING IN LONDON')"
   ]
  },
  {
   "cell_type": "code",
   "execution_count": null,
   "id": "74b6e29b-4544-4cac-8a4c-f5cd8412b1d7",
   "metadata": {},
   "outputs": [],
   "source": [
    "bike_hiring_updated.hvplot.line(x='ds', y= 'Temperature', title= 'Temperature Profile in London')"
   ]
  },
  {
   "cell_type": "code",
   "execution_count": null,
   "id": "bb555210-8dd8-4644-bbd9-66644f5a8246",
   "metadata": {},
   "outputs": [],
   "source": [
    "# Add both graphs together to see the temperature effect on bike hiring\n",
    "df = bike_hiring_updated.copy()\n",
    "X = df[['ds']]\n",
    "Y1=df[['y']]\n",
    "Y2=df[['Temperature']]\n",
    "\n",
    "fig, ax1 = plt.subplots(figsize=(10,6))\n",
    "ax2 = ax1.twinx()\n",
    "\n",
    "ax1.plot(X, Y1, 'g', label='y') #plotting on primary Y-axis\n",
    "ax1.plot(X, Y2, 'm', label='Temp') #plotting on primary Y-axis\n",
    "\n",
    "ax2.plot(X, Y2, 'b', label='Temp') #plotting on **second** Y-axis\n",
    "\n",
    "ax1.set_ylim(0, 80000) #Define limit/scale for primary Y-axis\n",
    "ax2.set_ylim(-5, 30) #Define limit/scale for secondary Y-axis\n",
    "ax1.grid(False)\n",
    "ax2.grid(False)\n",
    "\n",
    "plt.show()"
   ]
  },
  {
   "cell_type": "markdown",
   "id": "cc68359e-48a9-4e81-a3a9-f2bb0cddd678",
   "metadata": {},
   "source": [
    "Before feature engineering by temperature let's checke correlation between temperature and bike hiring"
   ]
  },
  {
   "cell_type": "markdown",
   "id": "6eb48ca3-6eb8-4ca7-ad7c-2bc26262c653",
   "metadata": {},
   "source": [
    "It seems 60% correlation  between temperature and bike hiring"
   ]
  },
  {
   "cell_type": "code",
   "execution_count": null,
   "id": "7a1c4832-f876-43bd-9b1a-db63f97cd867",
   "metadata": {},
   "outputs": [],
   "source": [
    "bike_hiring_updated[['y','Temperature']].corr()"
   ]
  },
  {
   "cell_type": "markdown",
   "id": "9184ad9a-a525-42f6-a417-58f74fd3a803",
   "metadata": {},
   "source": [
    "Let's check correlation improves if we feed temperature greater or less than 15 degrees"
   ]
  },
  {
   "cell_type": "code",
   "execution_count": null,
   "id": "7a649cdc-5f46-4db9-bcf7-0cef3092b341",
   "metadata": {},
   "outputs": [],
   "source": [
    "bike_hiring_updated.query('Temperature >= 10')[['y','Temperature']].corr()\n",
    "# It did not improve the correlation"
   ]
  },
  {
   "cell_type": "markdown",
   "id": "b646efc7-93ee-4ec1-8565-8def16097f18",
   "metadata": {},
   "source": [
    "Define a function when temperature is more than 10 it gives 1 and less than 10 it gives 0"
   ]
  },
  {
   "cell_type": "code",
   "execution_count": null,
   "id": "57846370-cef5-42c6-89c9-0ad36cf720eb",
   "metadata": {},
   "outputs": [],
   "source": [
    "def summer_temp(temp):\n",
    "    if temp >= 10:\n",
    "        return 1\n",
    "    else:\n",
    "        return 0"
   ]
  },
  {
   "cell_type": "code",
   "execution_count": null,
   "id": "3092958b-b0d2-4f5f-bcbf-a793155596c8",
   "metadata": {},
   "outputs": [],
   "source": [
    "bike_hiring_updated['summer_temp'] = bike_hiring_updated.Temperature.apply(summer_temp)"
   ]
  },
  {
   "cell_type": "code",
   "execution_count": null,
   "id": "5abc34ce-143b-47bf-93d5-ec79b397f090",
   "metadata": {},
   "outputs": [],
   "source": [
    "bike_hiring_updated"
   ]
  },
  {
   "cell_type": "markdown",
   "id": "f1074880-7e89-4a64-b79e-0e55484dbcc8",
   "metadata": {},
   "source": [
    "To track the behavior in summer or winter better we cut the months in 4 bins"
   ]
  },
  {
   "cell_type": "code",
   "execution_count": null,
   "id": "13f04adb-5c34-4491-83d8-c1dc1e748e40",
   "metadata": {},
   "outputs": [],
   "source": [
    "def seasons(month):\n",
    "    if (month >= 3) and (month <= 5): # for spring\n",
    "        return 1\n",
    "    elif month >= 6 and month <= 8:\n",
    "        return 2\n",
    "    elif month >= 9 and month <= 11:\n",
    "        return 3\n",
    "    else:\n",
    "        return 4"
   ]
  },
  {
   "cell_type": "code",
   "execution_count": null,
   "id": "c698ef11-b687-4a8b-8592-22e9d66c3e09",
   "metadata": {},
   "outputs": [],
   "source": [
    "seasons(12)"
   ]
  },
  {
   "cell_type": "code",
   "execution_count": null,
   "id": "955060a8-4904-47c1-bcec-b641ba87c710",
   "metadata": {},
   "outputs": [],
   "source": [
    "bike_hiring_updated['month_bin'] = bike_hiring_updated.month.apply(lambda raw: seasons(raw))"
   ]
  },
  {
   "cell_type": "code",
   "execution_count": null,
   "id": "d54ee0b0-a66c-4127-bce7-0dd2dbc9e3c4",
   "metadata": {},
   "outputs": [],
   "source": [
    "bike_hiring_updated"
   ]
  },
  {
   "cell_type": "code",
   "execution_count": null,
   "id": "e1335fad-8370-44b9-aaef-06cb56113d47",
   "metadata": {},
   "outputs": [],
   "source": [
    "bike_hiring_updated1 = bike_hiring_updated[['ds','y','summer_temp', 'month_bin']]"
   ]
  },
  {
   "cell_type": "markdown",
   "id": "fbc5d24a-55af-48ff-a13e-ee4a158c9c4b",
   "metadata": {},
   "source": [
    "Train test split\n",
    "we can not use usual train test split like scikit. we do it just by spliting the dataset by time\n"
   ]
  },
  {
   "cell_type": "code",
   "execution_count": null,
   "id": "a8bbff6f-be69-4c42-8266-c886ca12335d",
   "metadata": {},
   "outputs": [],
   "source": [
    "train = bike_hiring_updated1[bike_hiring_updated1.ds.dt.year < 2018]"
   ]
  },
  {
   "cell_type": "code",
   "execution_count": null,
   "id": "fe7fe79a-19b4-4aca-aca4-348d0407fede",
   "metadata": {},
   "outputs": [],
   "source": [
    "train"
   ]
  },
  {
   "cell_type": "code",
   "execution_count": null,
   "id": "3606e3fd-2e28-4a69-a3b5-4d1f4850adf6",
   "metadata": {},
   "outputs": [],
   "source": [
    "test = bike_hiring_updated1[bike_hiring_updated1.ds.dt.year >= 2018]"
   ]
  },
  {
   "cell_type": "code",
   "execution_count": null,
   "id": "10159d82-5e37-40d1-b5be-5a4db2c93285",
   "metadata": {},
   "outputs": [],
   "source": [
    "test"
   ]
  },
  {
   "cell_type": "markdown",
   "id": "824c41ea-422c-4802-a4d9-1e2507aefd02",
   "metadata": {},
   "source": [
    "##### Train the model again"
   ]
  },
  {
   "cell_type": "code",
   "execution_count": null,
   "id": "1606a771-fe94-42f7-b416-501ed7aedafe",
   "metadata": {},
   "outputs": [],
   "source": [
    "m = Prophet(interval_width= 0.95, yearly_seasonality= True)"
   ]
  },
  {
   "cell_type": "markdown",
   "id": "dc4abb5f-c6df-48e6-8702-e47bece8c1ee",
   "metadata": {},
   "source": [
    "now we tell the model that it should take summer temperature in consideration, but not standerdize"
   ]
  },
  {
   "cell_type": "code",
   "execution_count": null,
   "id": "954efed1-0261-4869-b99c-596c1d98610e",
   "metadata": {},
   "outputs": [],
   "source": [
    "m.add_regressor('summer_temp', standardize= False)\n",
    "m.add_regressor('month_bin', mode = 'multiplicative')"
   ]
  },
  {
   "cell_type": "code",
   "execution_count": null,
   "id": "57ff38c6-73a4-48df-bb01-8a838efb169e",
   "metadata": {},
   "outputs": [],
   "source": [
    "m.fit(train)"
   ]
  },
  {
   "cell_type": "code",
   "execution_count": null,
   "id": "4d38918c-9faa-43fb-9138-121fad2ddfeb",
   "metadata": {},
   "outputs": [],
   "source": [
    "m.params"
   ]
  },
  {
   "cell_type": "markdown",
   "id": "a832bf29-57df-49da-a4ef-03abd71902b6",
   "metadata": {},
   "source": [
    "Now we create our future dataframe. It must contain ds, summer temp and month bin as we are predicting based on this"
   ]
  },
  {
   "cell_type": "code",
   "execution_count": null,
   "id": "1ec505a0-6d96-4a29-944a-bcb8513be7f3",
   "metadata": {},
   "outputs": [],
   "source": [
    "future = m.make_future_dataframe(periods = 730)"
   ]
  },
  {
   "cell_type": "code",
   "execution_count": null,
   "id": "bf235b0c-3e83-4987-a25a-2c09394a96d0",
   "metadata": {},
   "outputs": [],
   "source": [
    "future.tail()"
   ]
  },
  {
   "cell_type": "code",
   "execution_count": null,
   "id": "8a09f704-40b7-4df2-bad5-b62f7adc4d7f",
   "metadata": {},
   "outputs": [],
   "source": [
    "future['month_bin'] = bike_hiring_updated1['month_bin']"
   ]
  },
  {
   "cell_type": "code",
   "execution_count": null,
   "id": "d36c0649-a1db-4464-b0bb-78549643350f",
   "metadata": {},
   "outputs": [],
   "source": [
    "future['summer_temp'] = bike_hiring_updated1['summer_temp']"
   ]
  },
  {
   "cell_type": "code",
   "execution_count": null,
   "id": "ce3e6c31-4ace-412a-89cb-b3b4865b53a5",
   "metadata": {},
   "outputs": [],
   "source": [
    "future"
   ]
  },
  {
   "cell_type": "markdown",
   "id": "8b03f97f-3d7e-4638-8646-1385207a10b7",
   "metadata": {},
   "source": [
    "now we forcast future"
   ]
  },
  {
   "cell_type": "code",
   "execution_count": null,
   "id": "cae45a05-94c6-4e20-b10f-b44d09845e47",
   "metadata": {},
   "outputs": [],
   "source": [
    "forcast = m.predict(future)"
   ]
  },
  {
   "cell_type": "code",
   "execution_count": null,
   "id": "08273beb-a3f8-4991-a59d-52ec16d025de",
   "metadata": {},
   "outputs": [],
   "source": [
    "comparision = forcast[['ds','yhat']].tail(730)"
   ]
  },
  {
   "cell_type": "code",
   "execution_count": null,
   "id": "464080c1-2c3a-45ce-b520-b7ec9cbd0c68",
   "metadata": {},
   "outputs": [],
   "source": [
    "comparision['y_true'] = test.y"
   ]
  },
  {
   "cell_type": "code",
   "execution_count": null,
   "id": "4bf4dc0e-8bf8-4af7-b5fb-d1bf3eceddc7",
   "metadata": {},
   "outputs": [],
   "source": [
    "comparision.reset_index(drop = True)"
   ]
  },
  {
   "cell_type": "code",
   "execution_count": null,
   "id": "8aebb509-83e1-4318-8931-63d41a070dc3",
   "metadata": {},
   "outputs": [],
   "source": [
    "comparision.hvplot.line(x='ds', y= ['y_true','yhat'], hover ='all', title= 'Comparision between true and predicted value')"
   ]
  },
  {
   "cell_type": "code",
   "execution_count": null,
   "id": "98e5a0b2-4517-4459-b51d-5f87bbeddae5",
   "metadata": {},
   "outputs": [],
   "source": [
    "# We can do comparision by using plot function in prophet\n",
    "fig1 = m.plot(forcast)"
   ]
  },
  {
   "cell_type": "code",
   "execution_count": null,
   "id": "47299f81-ccd3-4eff-b6ff-e8d64999193a",
   "metadata": {},
   "outputs": [],
   "source": [
    "fig2 = m.plot_components(forcast)"
   ]
  },
  {
   "cell_type": "markdown",
   "id": "427e25b7-f893-4166-9da7-a697f58fe2ff",
   "metadata": {},
   "source": [
    "##### Crossvalidation again"
   ]
  },
  {
   "cell_type": "code",
   "execution_count": null,
   "id": "7fcbb978-8260-42f8-8556-14d6e7ce098e",
   "metadata": {},
   "outputs": [],
   "source": [
    "from prophet.diagnostics import cross_validation, performance_metrics\n",
    "cv_results = cross_validation(model = m, initial= '731 days', horizon = '365 days')\n",
    "performance = performance_metrics(cv_results)\n",
    "performance"
   ]
  },
  {
   "cell_type": "markdown",
   "id": "313b5f55-01f0-4773-b84f-4974144714c9",
   "metadata": {},
   "source": [
    "We find Mape 0.4 from this model\n",
    "\n",
    "The mean absolute percent error (MAPE) expresses accuracy as a percentage of the error. Because the MAPE is a percentage, it can be easier to understand than the other accuracy measure statistics. For example, if the MAPE is 5, on average, the forecast is off by 5%.\n",
    "\n",
    "However, sometimes you may see a very large value of MAPE even though the model appears to fit the data well. Examine the plot to see if any data values are close to 0. Because MAPE divides the absolute error by the actual data, values close to 0 can greatly inflate the MAPE."
   ]
  },
  {
   "cell_type": "code",
   "execution_count": null,
   "id": "fc434ecd-cae1-4547-a95e-bc1a08a6f022",
   "metadata": {},
   "outputs": [],
   "source": [
    "from prophet.plot import plot_cross_validation_metric"
   ]
  },
  {
   "cell_type": "code",
   "execution_count": null,
   "id": "350dcdbd-1e7f-4363-9b71-da0d15c0d34a",
   "metadata": {},
   "outputs": [],
   "source": [
    "fig3 = plot_cross_validation_metric(cv_results, metric = 'mape')"
   ]
  },
  {
   "cell_type": "markdown",
   "id": "40582f04-aa9b-454b-a57d-cae0ff849c37",
   "metadata": {},
   "source": [
    "#### Iteration 7: to sum it up---- Train the model with additional features: holiday, Summer Temperature and Monthly bin(month seasonality)\n"
   ]
  },
  {
   "cell_type": "code",
   "execution_count": null,
   "id": "6a5ebf91-a8aa-4537-ba19-d6a5af36e954",
   "metadata": {},
   "outputs": [],
   "source": [
    "m = Prophet(interval_width= 0.95, yearly_seasonality= True)"
   ]
  },
  {
   "cell_type": "code",
   "execution_count": null,
   "id": "a3df10fe-0563-49be-ac44-ff67009a5555",
   "metadata": {},
   "outputs": [],
   "source": [
    "m.add_country_holidays(country_name='UK')"
   ]
  },
  {
   "cell_type": "code",
   "execution_count": null,
   "id": "1fdad3b7-ec87-429b-9ca4-6c7f9da41518",
   "metadata": {},
   "outputs": [],
   "source": [
    "m.add_regressor('summer_temp', standardize= False)\n",
    "m.add_regressor('month_bin', mode = 'multiplicative')"
   ]
  },
  {
   "cell_type": "code",
   "execution_count": null,
   "id": "7af7eb47-f8c1-42e8-a015-e70ca38a7068",
   "metadata": {},
   "outputs": [],
   "source": [
    "m.fit(train)"
   ]
  },
  {
   "cell_type": "code",
   "execution_count": null,
   "id": "b82d637c-4433-4c12-9ca0-15341f810928",
   "metadata": {},
   "outputs": [],
   "source": [
    "future = m.make_future_dataframe(periods = 730)"
   ]
  },
  {
   "cell_type": "code",
   "execution_count": null,
   "id": "f1254c66-e325-4b12-8ced-5e4da3200c3e",
   "metadata": {},
   "outputs": [],
   "source": [
    "future['month_bin'] = bike_hiring_updated1['month_bin']\n",
    "future['summer_temp'] = bike_hiring_updated1['summer_temp']"
   ]
  },
  {
   "cell_type": "code",
   "execution_count": null,
   "id": "db0492a4-5596-4f1c-8111-79c2445c7b7e",
   "metadata": {},
   "outputs": [],
   "source": [
    "forcast = m.predict(future)"
   ]
  },
  {
   "cell_type": "code",
   "execution_count": null,
   "id": "be836bb6-ae5a-463e-8a89-f0caab00e6ce",
   "metadata": {},
   "outputs": [],
   "source": [
    "fig1 = m.plot(forcast)"
   ]
  },
  {
   "cell_type": "code",
   "execution_count": null,
   "id": "823a92ad-1f14-4762-888b-7a64f3987396",
   "metadata": {},
   "outputs": [],
   "source": [
    "# Cross validation again\n",
    "from prophet.diagnostics import cross_validation, performance_metrics\n",
    "cv_results = cross_validation(model = m, initial= '731 days', horizon = '365 days')\n",
    "performance = performance_metrics(cv_results)\n",
    "performance\n"
   ]
  },
  {
   "cell_type": "code",
   "execution_count": null,
   "id": "7038840b-8f5c-4b32-82ce-4f32549434ed",
   "metadata": {},
   "outputs": [],
   "source": [
    "fig3 = plot_cross_validation_metric(cv_results, metric = 'mape')"
   ]
  },
  {
   "cell_type": "markdown",
   "id": "f06fc887-e039-4bfc-8c56-276fc853222f",
   "metadata": {},
   "source": [
    "#### Iteration 7: Train the model with only Temperature as regressor without modification  to see if it even performs better. But it seems no improvement. Though the model already performs pretty well with MAPE ranging from 0.2 to 0.4"
   ]
  },
  {
   "cell_type": "code",
   "execution_count": null,
   "id": "b4a34b77-0728-4ee4-b99d-896cbca450f2",
   "metadata": {},
   "outputs": [],
   "source": [
    "bike_hiring_updated"
   ]
  },
  {
   "cell_type": "code",
   "execution_count": null,
   "id": "04adf0a5-dcc2-43b0-a252-2bc1f7a8c259",
   "metadata": {},
   "outputs": [],
   "source": [
    "bike_hiring_updated['log_y'] = np.log(bike_hiring_updated.y)"
   ]
  },
  {
   "cell_type": "code",
   "execution_count": null,
   "id": "a4037d09-d3dc-4aba-bedd-093b5ceaea76",
   "metadata": {},
   "outputs": [],
   "source": [
    "bike_hiring_updated"
   ]
  },
  {
   "cell_type": "code",
   "execution_count": null,
   "id": "adb3258d-7668-421f-9c37-2f47e2093db8",
   "metadata": {},
   "outputs": [],
   "source": [
    "train = bike_hiring_updated[bike_hiring_updated.ds.dt.year <2018][['ds', 'y','Temperature']]"
   ]
  },
  {
   "cell_type": "code",
   "execution_count": null,
   "id": "ac7610aa-d177-4fff-b272-4712cbf58903",
   "metadata": {},
   "outputs": [],
   "source": [
    "#train.columns = ['ds', 'y','Temperature']"
   ]
  },
  {
   "cell_type": "code",
   "execution_count": null,
   "id": "a1e2f780-cecb-4896-9b39-38d642601ef4",
   "metadata": {},
   "outputs": [],
   "source": [
    "test = bike_hiring_updated[bike_hiring_updated.ds.dt.year >= 2018][['ds', 'y','Temperature']]"
   ]
  },
  {
   "cell_type": "code",
   "execution_count": null,
   "id": "44ce8db7-c4f5-4069-9340-777399209b23",
   "metadata": {},
   "outputs": [],
   "source": [
    "#test.columns = ['ds', 'y','Temperature']"
   ]
  },
  {
   "cell_type": "code",
   "execution_count": null,
   "id": "5dee2192-6229-411e-82c8-57c814c59de9",
   "metadata": {},
   "outputs": [],
   "source": [
    "m = Prophet(interval_width= 0.95, yearly_seasonality= True)"
   ]
  },
  {
   "cell_type": "code",
   "execution_count": null,
   "id": "dd907831-394f-4c3c-b7de-5ca372e0c20c",
   "metadata": {},
   "outputs": [],
   "source": [
    "m.add_regressor('Temperature', standardize= False)"
   ]
  },
  {
   "cell_type": "code",
   "execution_count": null,
   "id": "d9a4f7d9-7b49-40a9-b92e-b49f58b611ee",
   "metadata": {},
   "outputs": [],
   "source": [
    "m.fit(train)"
   ]
  },
  {
   "cell_type": "code",
   "execution_count": null,
   "id": "10306bd8-6994-45a0-a3be-45ca8c9f304a",
   "metadata": {},
   "outputs": [],
   "source": [
    "future = m.make_future_dataframe(periods = 730)"
   ]
  },
  {
   "cell_type": "code",
   "execution_count": null,
   "id": "ade37860-28a5-4b54-894e-be7497b33d61",
   "metadata": {},
   "outputs": [],
   "source": [
    "future['Temperature'] = bike_hiring_updated['Temperature']"
   ]
  },
  {
   "cell_type": "code",
   "execution_count": null,
   "id": "00bed3cd-1864-4374-b894-539d58367fe7",
   "metadata": {},
   "outputs": [],
   "source": [
    "future"
   ]
  },
  {
   "cell_type": "code",
   "execution_count": null,
   "id": "1572d03f-5d8a-4e5f-ba1d-5061806d3c46",
   "metadata": {},
   "outputs": [],
   "source": [
    "forcast = m.predict(future)"
   ]
  },
  {
   "cell_type": "code",
   "execution_count": null,
   "id": "2c330f99-9b5b-47b9-8389-40d8414dbf36",
   "metadata": {},
   "outputs": [],
   "source": [
    "fig1 = m.plot(forcast)"
   ]
  },
  {
   "cell_type": "code",
   "execution_count": null,
   "id": "28d91d14-e756-4cb1-9a99-e7f0bdf694a6",
   "metadata": {},
   "outputs": [],
   "source": [
    "m.plot_components(forcast)"
   ]
  }
 ],
 "metadata": {
  "kernelspec": {
   "display_name": "Python 3",
   "language": "python",
   "name": "python3"
  },
  "language_info": {
   "codemirror_mode": {
    "name": "ipython",
    "version": 3
   },
   "file_extension": ".py",
   "mimetype": "text/x-python",
   "name": "python",
   "nbconvert_exporter": "python",
   "pygments_lexer": "ipython3",
   "version": "3.7.10"
  }
 },
 "nbformat": 4,
 "nbformat_minor": 5
}
